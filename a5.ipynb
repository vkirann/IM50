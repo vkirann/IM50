{
 "cells": [
  {
   "cell_type": "code",
   "execution_count": 6,
   "metadata": {},
   "outputs": [
    {
     "name": "stdout",
     "output_type": "stream",
     "text": [
      "the sum of 7.0 and 7.0 is 14.0\n"
     ]
    }
   ],
   "source": [
    "#1 Python Program to Add Two Numbers\n",
    "\n",
    "a1=float(input(\"enter first number\"))\n",
    "a2=float(input(\"enetr second number\"))\n",
    "sum=a1+a2\n",
    "print(\"the sum of\",a1 ,\"and\", a2, \"is\",sum)"
   ]
  },
  {
   "cell_type": "code",
   "execution_count": 12,
   "metadata": {},
   "outputs": [
    {
     "name": "stdout",
     "output_type": "stream",
     "text": [
      "square root of 100.0 is 10.0\n"
     ]
    }
   ],
   "source": [
    "#2 Python Program to Find the Square Root\n",
    "import math\n",
    "num1=float(input(\"enter the value\"))\n",
    "\n",
    "sqrt= math.sqrt(num1)\n",
    "\n",
    "print(\"square root of\",num1, \"is\",sqrt)\n",
    "\n"
   ]
  },
  {
   "cell_type": "code",
   "execution_count": 20,
   "metadata": {},
   "outputs": [
    {
     "name": "stdout",
     "output_type": "stream",
     "text": [
      "the first side 2.0\n",
      "the second side 4.0\n",
      "the third side 6.0\n",
      "the area of triangle is 24.0\n"
     ]
    }
   ],
   "source": [
    "#3 Python Program to Calculate the Area of a Triangle\n",
    "\n",
    "a=float(input(\"enter the first side\"))\n",
    "b=float(input(\"enter the second side\"))\n",
    "c=float(input(\"enter the third side\"))\n",
    "area=0.5*a*b*c\n",
    "print(\"the first side\",a)\n",
    "print(\"the second side\",b)\n",
    "print(\"the third side\",c)\n",
    "\n",
    "print(\"the area of triangle is\",area)"
   ]
  },
  {
   "cell_type": "code",
   "execution_count": 22,
   "metadata": {},
   "outputs": [
    {
     "name": "stdout",
     "output_type": "stream",
     "text": [
      "enter principal amount 5.0\n",
      "enter the time period 6.0\n",
      "enter the rate of interest 7.0\n",
      "simple interest is 2.1\n"
     ]
    }
   ],
   "source": [
    "#4 Python Program for simple interest\n",
    "\n",
    "principal=float(input(\"enter the principal amount\"))\n",
    "time=float(input(\"enter the time period\"))\n",
    "rate=float(input(\"enter the rate of interest\"))\n",
    "simple_interest=(principal*time*rate)/100\n",
    "print(\"enter principal amount\",principal)\n",
    "print(\"enter the time period\",time)\n",
    "print(\"enter the rate of interest\",rate)\n",
    "print(\"simple interest is\",simple_interest)"
   ]
  },
  {
   "cell_type": "code",
   "execution_count": 23,
   "metadata": {},
   "outputs": [
    {
     "name": "stdout",
     "output_type": "stream",
     "text": [
      "enter the principal amount 5.0\n",
      "enter the time period 10.0\n",
      "enter the rate of interest 5.0\n",
      "the  compound interest is 3.1444731338872103\n"
     ]
    }
   ],
   "source": [
    "#5 Python Program for compound interes\n",
    "\n",
    "principal=float(input(\"enter the principal amount\"))\n",
    "time=float(input(\"enter the time period\"))\n",
    "rate=float(input(\"enter the rate of interest\"))\n",
    "amount=principal*(1+rate/100)**time\n",
    "compound_interest=amount-principal\n",
    "print(\"enter the principal amount\",principal)\n",
    "print(\"enter the time period\",time)\n",
    "print(\"enter the rate of interest\",rate)\n",
    "print(\"the  compound interest is\",compound_interest)"
   ]
  },
  {
   "cell_type": "code",
   "execution_count": 24,
   "metadata": {},
   "outputs": [
    {
     "name": "stdout",
     "output_type": "stream",
     "text": [
      "radius 20.0\n",
      "area of circle 1256.8\n"
     ]
    }
   ],
   "source": [
    "#6 Python Program for Program to find area of a circle\n",
    "\n",
    "def area_of_circle():\n",
    "    r=float(input(\"enter the radius\"))\n",
    "    print(\"radius\",r)\n",
    "    pi=3.142\n",
    "    area=(pi*r*r)\n",
    "    return area\n",
    "ar=area_of_circle()\n",
    "print(\"area of circle\",ar)\n"
   ]
  },
  {
   "cell_type": "code",
   "execution_count": 25,
   "metadata": {},
   "outputs": [
    {
     "name": "stdout",
     "output_type": "stream",
     "text": [
      "before swapping 20 50\n",
      "after swapping 50 20\n"
     ]
    }
   ],
   "source": [
    "#7 Python Program to Swap Two Variables\n",
    "\n",
    "def swap():\n",
    "    a=int(input(\"enter the value of a\"))\n",
    "    b=int(input(\"enter the value of b\"))\n",
    "    print(\"before swapping\",a,b)\n",
    "    sw=a\n",
    "    a=b\n",
    "    b=sw\n",
    "    print(\"after swapping\",a,b)\n",
    "swap()\n",
    "\n"
   ]
  },
  {
   "cell_type": "code",
   "execution_count": 28,
   "metadata": {},
   "outputs": [
    {
     "name": "stdout",
     "output_type": "stream",
     "text": [
      "random number is 14\n"
     ]
    }
   ],
   "source": [
    "#8 Python Program to Generate a Random Number \n",
    "\n",
    "import random\n",
    "random_number=random.randint(1,300)\n",
    "print(\"random number is\",random_number)\n",
    "\n"
   ]
  },
  {
   "cell_type": "code",
   "execution_count": 36,
   "metadata": {},
   "outputs": [
    {
     "name": "stdout",
     "output_type": "stream",
     "text": [
      " the kilometers= 20.0\n",
      "20.0 kilometers is equal to 12.42742 miles\n"
     ]
    }
   ],
   "source": [
    "#9 Python Program to Convert Kilometers to Miles\n",
    "\n",
    "K=float(input(\"enter the kilometers\"))\n",
    "factor=0.621371\n",
    "print(\" the kilometers=\",K)\n",
    "miles= K * factor\n",
    "print(K,\"kilometers is equal to\" ,miles,\"miles\")"
   ]
  },
  {
   "cell_type": "code",
   "execution_count": 37,
   "metadata": {},
   "outputs": [
    {
     "name": "stdout",
     "output_type": "stream",
     "text": [
      " the value is positive 10\n"
     ]
    }
   ],
   "source": [
    "#10 Python Program to Check if a Number is Positive, Negative or 0\n",
    "\n",
    "a=int(input(\" the value\"))\n",
    "if (a>0):\n",
    "    \n",
    "    print(\" the value is positive\",a)\n",
    "else:\n",
    "    print(\" the value is negative\",a)\n"
   ]
  },
  {
   "cell_type": "code",
   "execution_count": 38,
   "metadata": {},
   "outputs": [
    {
     "name": "stdout",
     "output_type": "stream",
     "text": [
      " the value is negative 10\n"
     ]
    }
   ],
   "source": [
    "a=int(input(\" the value\"))\n",
    "if (a<0):\n",
    "    \n",
    "    print(\" the value is positive\",a)\n",
    "else:\n",
    "    print(\" the value is negative\",a)"
   ]
  },
  {
   "cell_type": "code",
   "execution_count": 7,
   "metadata": {},
   "outputs": [
    {
     "name": "stdout",
     "output_type": "stream",
     "text": [
      "4 is odd\n"
     ]
    }
   ],
   "source": [
    "#11.Python Program to Check if a Number is Odd or Even\n",
    "\n",
    "num=int(input(\"enter the number\"))\n",
    "if num%2==0:\n",
    "    print(num,\"is odd\")\n",
    "else:\n",
    "    print(num,\"is even\")"
   ]
  },
  {
   "cell_type": "code",
   "execution_count": 10,
   "metadata": {},
   "outputs": [
    {
     "name": "stdout",
     "output_type": "stream",
     "text": [
      "the first number 30.0\n",
      "the second number 20.0\n",
      "the third number 50.0\n",
      "largest number is 50.0\n"
     ]
    }
   ],
   "source": [
    "#12.Python Program to Find the Largest Among Three Numbers\n",
    "\n",
    "a=float(input(\"enter the first number\"))\n",
    "b=float(input(\"enter the second number\"))\n",
    "c=float(input(\"enter the third number\"))\n",
    "if a>b and a>c:\n",
    "    largest=a\n",
    "    \n",
    "elif b>a and b>c:\n",
    "    largest=b\n",
    "    \n",
    "else:\n",
    "    largest =c\n",
    "    print(\"the first number\",a)\n",
    "    print(\"the second number\",b)\n",
    "    print(\"the third number\",c)\n",
    "    \n",
    "    print(\"largest number is\",largest)"
   ]
  },
  {
   "cell_type": "code",
   "execution_count": 8,
   "metadata": {},
   "outputs": [
    {
     "name": "stdout",
     "output_type": "stream",
     "text": [
      "6 is not prime number\n"
     ]
    }
   ],
   "source": [
    "#13 Python Program to Check Prime Number\n",
    "\n",
    "num1=int(input(\"enter the number\"))\n",
    "if num>1:\n",
    "    for i in range(2,num):\n",
    "        if (num % i)==0:\n",
    "            print(num,\"is not prime number\")\n",
    "        break\n",
    "    else:\n",
    "        print(num,\" is a prime number\")\n",
    "else:\n",
    "    print(num,\"is not a prime number\")"
   ]
  },
  {
   "cell_type": "code",
   "execution_count": 12,
   "metadata": {},
   "outputs": [
    {
     "name": "stdout",
     "output_type": "stream",
     "text": [
      "1\n",
      "2\n",
      "3\n",
      "5\n",
      "7\n",
      "11\n",
      "13\n",
      "17\n",
      "19\n",
      "23\n",
      "29\n",
      "31\n",
      "37\n",
      "41\n",
      "43\n",
      "47\n",
      "53\n",
      "59\n",
      "61\n",
      "67\n",
      "71\n",
      "73\n",
      "79\n",
      "83\n",
      "89\n",
      "97\n"
     ]
    }
   ],
   "source": [
    "#14 .Python Program to Print all Prime Numbers between 1 to 100\n",
    "\n",
    "start=int(input(\"enter starting range\"))\n",
    "stop=int(input(\"enter last range\"))\n",
    "for x in range(start,stop):\n",
    "    prime=True\n",
    "    for i  in range(2,x):\n",
    "        if x%i==0:\n",
    "            prime=False\n",
    "    if prime == True:\n",
    "        \n",
    "        print(x)"
   ]
  },
  {
   "cell_type": "code",
   "execution_count": 34,
   "metadata": {},
   "outputs": [
    {
     "name": "stdout",
     "output_type": "stream",
     "text": [
      "factorial for 6 is 1\n",
      "factorial for 6 is 2\n",
      "factorial for 6 is 6\n",
      "factorial for 6 is 24\n",
      "factorial for 6 is 120\n",
      "factorial for 6 is 720\n"
     ]
    }
   ],
   "source": [
    "#15.Python Program to Find the Factorial of a Number\n",
    "\n",
    "num=int(input(\"enter the number\"))\n",
    "factorial=1\n",
    "for i in range(1,num+1):\n",
    "    factorial*=i\n",
    "    print(\"factorial for\",num,\"is\",factorial)"
   ]
  },
  {
   "cell_type": "code",
   "execution_count": 46,
   "metadata": {},
   "outputs": [
    {
     "name": "stdout",
     "output_type": "stream",
     "text": [
      "0\n",
      "1\n",
      "6 6 6 6 6 6 "
     ]
    }
   ],
   "source": [
    "#16.Python Program to Print the Fibonacci sequence\n",
    "\n",
    "c3=int(input(\"enter the number of terms\"))\n",
    "a=0;b=1\n",
    "print(a)\n",
    "print(b)\n",
    "for i in range (1,c3+1):\n",
    "    c=a+b\n",
    "    print(c3,end=\" \")\n",
    "    a=b\n",
    "    b=c\n"
   ]
  },
  {
   "cell_type": "code",
   "execution_count": 52,
   "metadata": {},
   "outputs": [
    {
     "name": "stdout",
     "output_type": "stream",
     "text": [
      "the number 10.0\n",
      "the divisor 20.0\n",
      "the number is divisible\n"
     ]
    }
   ],
   "source": [
    "#17.Python Program to Find Numbers Divisible by Another Number\n",
    "\n",
    "num=float(input(\"enter the number\"))\n",
    "divisor=float(input(\"enter the divisor\"))\n",
    "divisible_numbers=[]\n",
    "print(\"the number\",num)\n",
    "print(\"the divisor\",divisor)\n",
    "if num1%divisor==0:\n",
    "    print(\"the number is not divisible\")\n",
    "else:\n",
    "    print(\"the number is divisible\")"
   ]
  },
  {
   "cell_type": "code",
   "execution_count": 53,
   "metadata": {},
   "outputs": [
    {
     "name": "stdout",
     "output_type": "stream",
     "text": [
      "the decimal number 234 in binary is 0b11101010\n",
      "the decimal number 234 in octal is 0o352\n",
      "the decimal num 234 in hexa is 0xea\n"
     ]
    }
   ],
   "source": [
    "#18..Python Program to Convert Decimal to Binary, Octal and Hexadecimal\n",
    "\n",
    "decimal_num=int(input(\"enter the number\"))\n",
    "binary_num=bin(decimal_num)\n",
    "octal_num=oct(decimal_num)\n",
    "hexadecimal_num=hex(decimal_num)\n",
    "print(\"the decimal number\",decimal_num, \"in binary is\",binary_num)\n",
    "print(\"the decimal number\",decimal_num,\"in octal is\",octal_num)\n",
    "print(\"the decimal num\",decimal_num,\"in hexa is\",hexadecimal_num )\n",
    "\n"
   ]
  },
  {
   "cell_type": "code",
   "execution_count": 61,
   "metadata": {},
   "outputs": [
    {
     "name": "stdout",
     "output_type": "stream",
     "text": [
      "the ascii value of k is 107\n"
     ]
    }
   ],
   "source": [
    "#19.Python Program to Find ASCII Value of Character\n",
    "\n",
    "char=(input(\"enter a character\"))\n",
    "print(\"the ascii value of\",char,\"is\",ord(char))"
   ]
  },
  {
   "cell_type": "code",
   "execution_count": 68,
   "metadata": {},
   "outputs": [
    {
     "name": "stdout",
     "output_type": "stream",
     "text": [
      "1\n",
      "the factor 100\n",
      "2\n",
      "the factor 100\n",
      "4\n",
      "the factor 100\n",
      "5\n",
      "the factor 100\n",
      "10\n",
      "the factor 100\n",
      "20\n",
      "the factor 100\n",
      "25\n",
      "the factor 100\n",
      "50\n",
      "the factor 100\n",
      "100\n",
      "the factor 100\n"
     ]
    }
   ],
   "source": [
    "#20.Python Program to Find the Factors of a Number\n",
    "\n",
    "num=int(input(\"enter the number\"))\n",
    "for i in range(1,num+1):\n",
    "    if num%i==0:\n",
    "        print(i)\n",
    "        print(\"the factor\",num)"
   ]
  },
  {
   "cell_type": "code",
   "execution_count": 70,
   "metadata": {},
   "outputs": [
    {
     "name": "stdout",
     "output_type": "stream",
     "text": [
      "addition of two numbers 104\n",
      "substraction of two numbers 78\n",
      "multiplication of two numbers 1183\n",
      "divison of twoo] numbers 7.0\n",
      "modulus of two number 1\n"
     ]
    }
   ],
   "source": [
    "#21.Python Program to Make a Simple Calculator\n",
    "\n",
    "a=int(input(\"enter the number\"))\n",
    "b=int(input(\"enter the number\"))\n",
    "print(\"addition of two numbers\",a+b),\n",
    "print(\"substraction of two numbers\",a-b)\n",
    "print(\"multiplication of two numbers\",a*b)\n",
    "print(\"divison of twoo] numbers\",a/b)\n",
    "print(\"modulus of two number\",a%2)"
   ]
  },
  {
   "cell_type": "code",
   "execution_count": null,
   "metadata": {},
   "outputs": [],
   "source": [
    "#22.Python Program to Add Two Matrices\n",
    "\n",
    "matrix1=[[1, 3, 5],\n",
    "        [3, 5, 1],\n",
    "        [5, 3, 1]]\n",
    "\n",
    "matrix2=[[2, 1, 0],\n",
    "        [1, 2, 0],\n",
    "        [0, 1, 2]]\n",
    "ans=[matrix1][i][j]+[matrix2][i][j]\n",
    "for i in range(len(matrix1)):\n",
    "    for j in range(len(matrix1[0])):\n",
    "        for r in ans:\n",
    "            print(r)"
   ]
  },
  {
   "cell_type": "code",
   "execution_count": null,
   "metadata": {},
   "outputs": [],
   "source": [
    "#23..Python Program to Transpose a Matrix\n",
    "\n",
    "matrix=[[1,2,3],[4,5,6]]\n",
    "transpose=[[0,0,0],[0,0,0]]\n",
    "for i in range(len(matrix)):\n",
    "        for j in range(len(matrix[0])):\n",
    "                transpose[j][i]=matrix[i][j]\n",
    "        for r in transpose:\n",
    "                print(r)\n",
    "\n"
   ]
  },
  {
   "cell_type": "code",
   "execution_count": null,
   "metadata": {},
   "outputs": [],
   "source": [
    "#24.Python Program to Multiply Two Matrices\n",
    "\n",
    "matrix1=[[1, 3, 5],\n",
    "        [3, 5, 1],\n",
    "        [5, 3, 1]]\n",
    "\n",
    "matrix2=[[2, 1, 0],\n",
    "        [1, 2, 0],\n",
    "        [0, 1, 2]]\n",
    "\n",
    "result=[[0,0,0],\n",
    "        [0,0,0],\n",
    "        [0,0,0]]\n",
    "for i in  range(len(matrix1)):\n",
    "        for j in range(len(matrix2[0])):\n",
    "                for k in range(len(matrix2)):\n",
    "                        result=[i][j]=result[i][j]+matrix1[i][k]*matrix2[k][j]\n",
    "print(\"multiplied matrix:\")\n",
    "for r in result:\n",
    "        print(r)\n",
    "            \n",
    "\n",
    "\n"
   ]
  },
  {
   "cell_type": "code",
   "execution_count": 21,
   "metadata": {},
   "outputs": [
    {
     "name": "stdout",
     "output_type": "stream",
     "text": [
      "entered string is palindrome\n"
     ]
    }
   ],
   "source": [
    "#25..Python Program to Check Whether a String is Palindrome or Not\n",
    "\n",
    "string=input(\"enter the string\")\n",
    "if string==string[::-1]:\n",
    "    print(\"entered string is palindrome\")\n",
    "else:\n",
    "    print(\"entered strinf is not a palindrome\")"
   ]
  },
  {
   "cell_type": "code",
   "execution_count": 23,
   "metadata": {},
   "outputs": [
    {
     "name": "stdout",
     "output_type": "stream",
     "text": [
      "1 \n",
      "1 2 \n",
      "1 2 3 \n",
      "1 2 3 4 \n",
      "1 2 3 4 5 \n",
      "1 2 3 4 5 6 \n",
      "1 2 3 4 5 6 7 \n",
      "1 2 3 4 5 6 7 8 \n",
      "1 2 3 4 5 6 7 8 9 \n",
      "1 2 3 4 5 6 7 8 9 10 \n"
     ]
    }
   ],
   "source": [
    "#26.Python Program to Create Pyramid Patterns of Numbers Till 10\n",
    "\n",
    "rows = 10\n",
    "for i in range(1, rows+1):\n",
    "    for j in range(1, i+1):\n",
    "        print(j, end=' ')\n",
    "    print()\n"
   ]
  },
  {
   "cell_type": "code",
   "execution_count": 24,
   "metadata": {},
   "outputs": [
    {
     "name": "stdout",
     "output_type": "stream",
     "text": [
      "{'Avengers': 1, 'AGE OF ULTRON': 2, 'INFIFNITY WAR': 3, 'ENDGAME': 4}\n"
     ]
    }
   ],
   "source": [
    "#27.Python Program to Merge Two Dictionaries\n",
    "\n",
    "dict1 = {'Avengers': 1, 'AGE OF ULTRON': 2}\n",
    "dict2 = {'INFIFNITY WAR': 3, 'ENDGAME': 4}\n",
    "merged_dict = {**dict1, **dict2}\n",
    "print(merged_dict)\n"
   ]
  },
  {
   "cell_type": "code",
   "execution_count": 26,
   "metadata": {},
   "outputs": [
    {
     "name": "stdout",
     "output_type": "stream",
     "text": [
      "0 2\n",
      "1 4\n",
      "2 6\n",
      "3 8\n",
      "4 0\n"
     ]
    }
   ],
   "source": [
    "#28.Python Program to Access Index of a List Using for Loop\n",
    "\n",
    "list=[2,4,6,8,0]\n",
    "for index in range (len(list)):\n",
    "    val=list[index]\n",
    "    print(index,val)"
   ]
  },
  {
   "cell_type": "code",
   "execution_count": 27,
   "metadata": {},
   "outputs": [
    {
     "name": "stdout",
     "output_type": "stream",
     "text": [
      "[9, 8, 7, 4, 5, 6]\n"
     ]
    }
   ],
   "source": [
    "#29..Python Program to Concatenate Two Lists\n",
    "\n",
    "list1 = [9, 8, 7]\n",
    "list2 = [4, 5, 6]\n",
    "concatenated_list = list1 + list2\n",
    "print(concatenated_list)\n"
   ]
  },
  {
   "cell_type": "code",
   "execution_count": 28,
   "metadata": {},
   "outputs": [
    {
     "name": "stdout",
     "output_type": "stream",
     "text": [
      "Last element of the list: 50\n"
     ]
    }
   ],
   "source": [
    "#30..Python Program to Get the Last Element of the List\n",
    "\n",
    "my_list = [90, 80, 70, 460, 50]\n",
    "last_element = my_list[-1]\n",
    "print(\"Last element of the list:\", last_element)\n"
   ]
  },
  {
   "cell_type": "code",
   "execution_count": 36,
   "metadata": {},
   "outputs": [
    {
     "name": "stdout",
     "output_type": "stream",
     "text": [
      "Randomly selected element from the list: 80\n"
     ]
    }
   ],
   "source": [
    "#31..Python Program to Randomly Select an Element From the List\n",
    "\n",
    "import random\n",
    "\n",
    "my_list = [50,60,70,80,90]\n",
    "random_element = random.choice(my_list)\n",
    "print(\"Randomly selected element from the list:\", random_element)\n"
   ]
  },
  {
   "cell_type": "code",
   "execution_count": 37,
   "metadata": {},
   "outputs": [
    {
     "name": "stdout",
     "output_type": "stream",
     "text": [
      "21 57 63 85 105 "
     ]
    }
   ],
   "source": [
    "#32..Python program to print odd numbers in a List\n",
    "\n",
    "my_list = [10, 21, 30, 44, 57, 63, 72, 85, 92, 105]\n",
    "for num in my_list:\n",
    "    if num % 2 != 0:\n",
    "        print(num, end=' ')\n"
   ]
  },
  {
   "cell_type": "code",
   "execution_count": 39,
   "metadata": {},
   "outputs": [
    {
     "name": "stdout",
     "output_type": "stream",
     "text": [
      "2 4 6 8 10 12 14 16 18 20 22 24 26 28 30 32 34 36 38 40 42 44 46 48 50 "
     ]
    }
   ],
   "source": [
    "#33..Python program to print all even numbers in a range\n",
    "\n",
    "start = 1\n",
    "end = 50\n",
    "for num in range(start, end + 1):\n",
    "    if num % 2 == 0:\n",
    "        print(num, end=' ')\n"
   ]
  },
  {
   "cell_type": "code",
   "execution_count": 40,
   "metadata": {},
   "outputs": [
    {
     "name": "stdout",
     "output_type": "stream",
     "text": [
      "The sum of the array is: 165\n"
     ]
    }
   ],
   "source": [
    "#34..Python Program to find sum of array\n",
    "\n",
    "array = [11, 22, 33, 44, 55]\n",
    "sum = 0\n",
    "for num in array:\n",
    "    sum += num\n",
    "print(\"The sum of the array is:\", sum)\n"
   ]
  },
  {
   "cell_type": "code",
   "execution_count": 41,
   "metadata": {},
   "outputs": [
    {
     "name": "stdout",
     "output_type": "stream",
     "text": [
      "The original string is:\n",
      "1717.700700\n"
     ]
    }
   ],
   "source": [
    "#35.Python Program to Check If a String Is a Number (Float)\n",
    "\n",
    "ts_str=\"17.700\"\n",
    "print(\"The original string is:\")\n",
    "res=ts_str.replace('.',ts_str)\n",
    "print(res)"
   ]
  },
  {
   "cell_type": "code",
   "execution_count": 42,
   "metadata": {},
   "outputs": [
    {
     "name": "stdout",
     "output_type": "stream",
     "text": [
      "Original list is: ['kaushik', '', 'vivek', 'vijay', 'karthik']\n",
      "original list is: [22, 32, 55, 77, 43]\n",
      "Resultant dictionary is : {'kaushik': 22, '': 32, 'vivek': 55, 'vijay': 77, 'karthik': 43}\n"
     ]
    }
   ],
   "source": [
    "#36.Python Program to Convert Two Lists Into a Dictionary\n",
    "\n",
    "list1=[\"kaushik\",\"\",\"vivek\",\"vijay\",\"karthik\"]\n",
    "list2=[22,32,55,77,43]\n",
    "print(\"Original list is:\",(list1))\n",
    "print(\"original list is:\",(list2))\n",
    "res={list1[i]:list2[i] for i in range(len(list1))}\n",
    "print(\"Resultant dictionary is :\",(res))"
   ]
  },
  {
   "cell_type": "code",
   "execution_count": 44,
   "metadata": {},
   "outputs": [
    {
     "name": "stdout",
     "output_type": "stream",
     "text": [
      "the number 987654321\n",
      "The reverse of the number is: 123456789\n"
     ]
    }
   ],
   "source": [
    "#37.Python Program to Reverse a Number\n",
    "\n",
    "num = int(input(\"Enter a number: \"))\n",
    "print(\"the number\",num)\n",
    "\n",
    "reverse = 0\n",
    "\n",
    "while num > 0:\n",
    "    remainder = num % 10\n",
    "    reverse = (reverse * 10) + remainder\n",
    "    num = num // 10\n",
    "\n",
    "print(\"The reverse of the number is:\", reverse)\n"
   ]
  },
  {
   "cell_type": "code",
   "execution_count": 47,
   "metadata": {},
   "outputs": [
    {
     "name": "stdout",
     "output_type": "stream",
     "text": [
      "9 raised to the power of 2 is 81\n"
     ]
    }
   ],
   "source": [
    "#38..Python Program to Compute the Power of a Number\n",
    "\n",
    "base = 9\n",
    "exponent = 2\n",
    "\n",
    "power = base ** exponent\n",
    "print(base, \"raised to the power of\", exponent, \"is\", power)"
   ]
  },
  {
   "cell_type": "code",
   "execution_count": 49,
   "metadata": {},
   "outputs": [
    {
     "name": "stdout",
     "output_type": "stream",
     "text": [
      "Number of digits in 1234567891011121314 is 19\n"
     ]
    }
   ],
   "source": [
    "#39..Python Program to Count the Number of Digits Present In a Number\n",
    "\n",
    "number = 1234567891011121314\n",
    "num_digits = len(str(number))\n",
    "print(\"Number of digits in\", number, \"is\", num_digits)\n"
   ]
  },
  {
   "cell_type": "code",
   "execution_count": null,
   "metadata": {},
   "outputs": [],
   "source": [
    "#40..Python Program to Remove Duplicate Element From a List\n",
    "\n",
    "list1=[2,1,3,4,2,5,7,8,3,1,2,4,5,0]\n",
    "print(list(set(list1)))"
   ]
  },
  {
   "cell_type": "code",
   "execution_count": 56,
   "metadata": {},
   "outputs": [
    {
     "name": "stdout",
     "output_type": "stream",
     "text": [
      "     July 2030\n",
      "Mo Tu We Th Fr Sa Su\n",
      " 1  2  3  4  5  6  7\n",
      " 8  9 10 11 12 13 14\n",
      "15 16 17 18 19 20 21\n",
      "22 23 24 25 26 27 28\n",
      "29 30 31\n",
      "\n"
     ]
    }
   ],
   "source": [
    "#41..Python Program to Display Calendar\n",
    "\n",
    "import calendar\n",
    "year = int(input(\"Enter the year: \"))\n",
    "month = int(input(\"Enter the month: \"))\n",
    "print(calendar.month(year, month))\n"
   ]
  },
  {
   "cell_type": "code",
   "execution_count": 57,
   "metadata": {},
   "outputs": [
    {
     "name": "stdout",
     "output_type": "stream",
     "text": [
      "The sum of the array is: 150\n"
     ]
    }
   ],
   "source": [
    "#42.Python Program to find sum of array\n",
    "\n",
    "array = [10,20,30,40,50]\n",
    "sum = 0\n",
    "for num in array:\n",
    "    sum += num\n",
    "print(\"The sum of the array is:\", sum)\n",
    "\n"
   ]
  },
  {
   "cell_type": "code",
   "execution_count": null,
   "metadata": {},
   "outputs": [],
   "source": [
    "#43..Python | Check for URL in a String\n",
    "\n"
   ]
  },
  {
   "cell_type": "code",
   "execution_count": 1,
   "metadata": {},
   "outputs": [
    {
     "name": "stdout",
     "output_type": "stream",
     "text": [
      "The original dictionary is: {'ducati': [9, 1, 1], 'mustang': [2, 3, 1], 'supraa': [0, 4]}\n",
      "The sorted dictionaries: {'ducati': [1, 1, 9], 'mustang': [1, 2, 3], 'supraa': [0, 4]}\n"
     ]
    }
   ],
   "source": [
    "#44..Python – Sort Dictionary key and values List\n",
    "\n",
    "dict={'ducati':[9,1,1],\n",
    "    'mustang':[2,3,1],\n",
    "    'supraa':[0,4]}\n",
    "print(\"The original dictionary is:\",dict)\n",
    "sort_dict={}\n",
    "for key in sorted(dict):\n",
    "    sort_dict[key]=sorted(dict[key])\n",
    "print(\"The sorted dictionaries:\",sort_dict)"
   ]
  },
  {
   "cell_type": "code",
   "execution_count": 2,
   "metadata": {},
   "outputs": [
    {
     "name": "stdout",
     "output_type": "stream",
     "text": [
      "Size of the tuple is: 136 bytes\n"
     ]
    }
   ],
   "source": [
    "#45..Python program to Find the size of a Tuple\n",
    "\n",
    "import sys\n",
    "tup = (1, 5, 4, 3, 2, 4, 0, 4, 2, 0, 2, 3)\n",
    "size = sys.getsizeof(tup)\n",
    "print(\"Size of the tuple is:\", size, \"bytes\")\n"
   ]
  },
  {
   "cell_type": "code",
   "execution_count": 3,
   "metadata": {},
   "outputs": [
    {
     "name": "stdout",
     "output_type": "stream",
     "text": [
      "[(1, 1), (5, 125), (3, 27), (4, 64), (5, 125), (6, 216)]\n"
     ]
    }
   ],
   "source": [
    "#46.Create a list of tuples from given list having number and its cube in each tuple\n",
    "\n",
    "numbers = [1, 5, 3, 4, 5, 6]\n",
    "result = [(num, num**3) for num in numbers]\n",
    "print(result)\n"
   ]
  },
  {
   "cell_type": "code",
   "execution_count": 4,
   "metadata": {},
   "outputs": [
    {
     "name": "stdout",
     "output_type": "stream",
     "text": [
      "[1, 1, 2, 2, 3, 3, 4, 4, 5, 5, 6, 6]\n"
     ]
    }
   ],
   "source": [
    "#47..Python – Extract digits from Tuple list\n",
    "\n",
    "my_list = [(11, 22), (33, 44), (55, 66)]\n",
    "digits = [int(d) for tup in my_list for elem in tup for d in str(elem) if d.isdigit()]\n",
    "print(digits)"
   ]
  },
  {
   "cell_type": "code",
   "execution_count": 5,
   "metadata": {},
   "outputs": [
    {
     "name": "stdout",
     "output_type": "stream",
     "text": [
      "[]\n"
     ]
    }
   ],
   "source": [
    "#48.Python program to Delete all Elements in List \n",
    "\n",
    "my_list = [10, 20, 30, 40, 50]\n",
    "del my_list[:]\n",
    "print(my_list) \n"
   ]
  },
  {
   "cell_type": "code",
   "execution_count": 6,
   "metadata": {},
   "outputs": [
    {
     "name": "stdout",
     "output_type": "stream",
     "text": [
      "19700\n"
     ]
    }
   ],
   "source": [
    "#49..Python Program to Enter Basic Salary and Calculate Gross Salary of an employee\n",
    "\n",
    "def sla_fun(basic,grade):\n",
    "    hra=0.3*basic\n",
    "    da=0.6*basic\n",
    "    pf=0.12*basic\n",
    "    \n",
    "    if grade == 'A':\n",
    "        allowance=1900.0\n",
    "    elif grade =='B':\n",
    "        allowance=1800.0\n",
    "    else:\n",
    "        allowance=1100.0\n",
    "    gross=round(basic+hra+da+allowance-pf)\n",
    "    return gross\n",
    "\n",
    "\n",
    "print(sla_fun(basic=10000,grade='A'))    "
   ]
  },
  {
   "cell_type": "code",
   "execution_count": 7,
   "metadata": {},
   "outputs": [
    {
     "name": "stdout",
     "output_type": "stream",
     "text": [
      "The average of [90, 80, 70, 60, 50] is: 70.0\n"
     ]
    }
   ],
   "source": [
    "#50.Python Program to Calculate the Average of Numbers in a Given List\n",
    "\n",
    "def calculate_average(numbers):\n",
    "    total = sum(numbers)\n",
    "    count = len(numbers)\n",
    "    if count > 0:\n",
    "        average = total / count\n",
    "        return average\n",
    "    else:\n",
    "        return 0\n",
    "numbers = [90, 80, 70, 60, 50]\n",
    "average = calculate_average(numbers)\n",
    "print(\"The average of {} is: {}\".format(numbers, average))\n"
   ]
  }
 ],
 "metadata": {
  "kernelspec": {
   "display_name": "Python 3",
   "language": "python",
   "name": "python3"
  },
  "language_info": {
   "codemirror_mode": {
    "name": "ipython",
    "version": 3
   },
   "file_extension": ".py",
   "mimetype": "text/x-python",
   "name": "python",
   "nbconvert_exporter": "python",
   "pygments_lexer": "ipython3",
   "version": "3.10.4"
  },
  "orig_nbformat": 4
 },
 "nbformat": 4,
 "nbformat_minor": 2
}
